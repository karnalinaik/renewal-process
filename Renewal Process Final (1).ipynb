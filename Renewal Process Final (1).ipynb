{
 "cells": [
  {
   "cell_type": "markdown",
   "id": "38ec0e92",
   "metadata": {},
   "source": [
    "## Renewal Process - Python \n",
    "       a. simulate sum of random variables of the different distributions to cross given number \n",
    "       b. simulate inspection paradox for discrete, Poisson and other continuous distributions\n",
    "       c. Simulate renewal process given the distribution with parameters e.g. Uniform and the Normal.  Find theoretical values for such runs and also simulate and show values\n",
    "       d. Visualize renewal process"
   ]
  },
  {
   "cell_type": "code",
   "execution_count": 5,
   "id": "60ebb5ea",
   "metadata": {},
   "outputs": [],
   "source": [
    "import pandas as pd\n",
    "import numpy as np\n",
    "import random"
   ]
  },
  {
   "cell_type": "code",
   "execution_count": 6,
   "id": "04f434db",
   "metadata": {},
   "outputs": [],
   "source": [
    "import statistics as st"
   ]
  },
  {
   "cell_type": "code",
   "execution_count": 7,
   "id": "df799c65",
   "metadata": {},
   "outputs": [
    {
     "name": "stderr",
     "output_type": "stream",
     "text": [
      "Matplotlib is building the font cache; this may take a moment.\n"
     ]
    }
   ],
   "source": [
    "import matplotlib.pyplot as plt"
   ]
  },
  {
   "cell_type": "markdown",
   "id": "4e31aede",
   "metadata": {},
   "source": [
    "### 1. Simulate sum of random variables of different distributions to cross given number \n",
    "\n",
    "#### Uniform Distribution\n"
   ]
  },
  {
   "cell_type": "code",
   "execution_count": 8,
   "id": "80f94f7e",
   "metadata": {},
   "outputs": [],
   "source": [
    "s = 0 #set sum = 0\n",
    "count = 0 #set count = 0\n",
    "countvec = [] #create a list to store counts of how many variables to be added\n",
    "\n",
    "for i in range(10000):# for every iteration set initial values\n",
    "    x = random.uniform(0,1)\n",
    "    s = 0\n",
    "    count = 0\n",
    "    while s < 1:# keep iterating till sum >= 1\n",
    "        s += x\n",
    "        count += 1\n",
    "        x = round(random.uniform(0,1),1)\n",
    "    countvec.append(count) \n"
   ]
  },
  {
   "cell_type": "code",
   "execution_count": 9,
   "id": "f77b77a7",
   "metadata": {},
   "outputs": [
    {
     "data": {
      "text/plain": [
       "1.39424336003334"
      ]
     },
     "execution_count": 9,
     "metadata": {},
     "output_type": "execute_result"
    }
   ],
   "source": [
    "s"
   ]
  },
  {
   "cell_type": "code",
   "execution_count": 10,
   "id": "57635417",
   "metadata": {},
   "outputs": [
    {
     "data": {
      "text/plain": [
       "2.7336"
      ]
     },
     "execution_count": 10,
     "metadata": {},
     "output_type": "execute_result"
    }
   ],
   "source": [
    "# in the long run, the number of uniform random variates\n",
    "# needed to get a sum >= 1 \n",
    "sum(countvec)/10000\n",
    "# value approximates to e"
   ]
  },
  {
   "cell_type": "code",
   "execution_count": 11,
   "id": "63dbd020",
   "metadata": {},
   "outputs": [
    {
     "data": {
      "text/plain": [
       "[3,\n",
       " 3,\n",
       " 2,\n",
       " 3,\n",
       " 2,\n",
       " 3,\n",
       " 2,\n",
       " 3,\n",
       " 2,\n",
       " 2,\n",
       " 2,\n",
       " 2,\n",
       " 2,\n",
       " 4,\n",
       " 4,\n",
       " 2,\n",
       " 2,\n",
       " 4,\n",
       " 4,\n",
       " 2,\n",
       " 3,\n",
       " 3,\n",
       " 2,\n",
       " 2,\n",
       " 2,\n",
       " 4,\n",
       " 3,\n",
       " 2,\n",
       " 2,\n",
       " 3,\n",
       " 4,\n",
       " 3,\n",
       " 4,\n",
       " 3,\n",
       " 3,\n",
       " 2,\n",
       " 2,\n",
       " 3,\n",
       " 3,\n",
       " 2,\n",
       " 3,\n",
       " 3,\n",
       " 3,\n",
       " 2,\n",
       " 5,\n",
       " 4,\n",
       " 3,\n",
       " 2,\n",
       " 4,\n",
       " 4,\n",
       " 2,\n",
       " 2,\n",
       " 2,\n",
       " 2,\n",
       " 2,\n",
       " 3,\n",
       " 3,\n",
       " 2,\n",
       " 2,\n",
       " 4,\n",
       " 2,\n",
       " 2,\n",
       " 4,\n",
       " 2,\n",
       " 2,\n",
       " 5,\n",
       " 3,\n",
       " 4,\n",
       " 3,\n",
       " 5,\n",
       " 3,\n",
       " 3,\n",
       " 3,\n",
       " 3,\n",
       " 2,\n",
       " 2,\n",
       " 2,\n",
       " 2,\n",
       " 3,\n",
       " 2,\n",
       " 3,\n",
       " 2,\n",
       " 4,\n",
       " 4,\n",
       " 2,\n",
       " 3,\n",
       " 3,\n",
       " 2,\n",
       " 3,\n",
       " 4,\n",
       " 2,\n",
       " 3,\n",
       " 2,\n",
       " 2,\n",
       " 2,\n",
       " 5,\n",
       " 2,\n",
       " 2,\n",
       " 2,\n",
       " 4,\n",
       " 3,\n",
       " 2,\n",
       " 2,\n",
       " 2,\n",
       " 2,\n",
       " 5,\n",
       " 2,\n",
       " 2,\n",
       " 3,\n",
       " 2,\n",
       " 2,\n",
       " 6,\n",
       " 5,\n",
       " 2,\n",
       " 2,\n",
       " 3,\n",
       " 2,\n",
       " 2,\n",
       " 4,\n",
       " 3,\n",
       " 2,\n",
       " 6,\n",
       " 3,\n",
       " 2,\n",
       " 2,\n",
       " 3,\n",
       " 3,\n",
       " 3,\n",
       " 2,\n",
       " 4,\n",
       " 2,\n",
       " 2,\n",
       " 4,\n",
       " 2,\n",
       " 2,\n",
       " 4,\n",
       " 2,\n",
       " 2,\n",
       " 2,\n",
       " 2,\n",
       " 3,\n",
       " 4,\n",
       " 2,\n",
       " 3,\n",
       " 3,\n",
       " 2,\n",
       " 2,\n",
       " 5,\n",
       " 3,\n",
       " 2,\n",
       " 2,\n",
       " 3,\n",
       " 3,\n",
       " 2,\n",
       " 2,\n",
       " 2,\n",
       " 2,\n",
       " 3,\n",
       " 2,\n",
       " 3,\n",
       " 2,\n",
       " 3,\n",
       " 2,\n",
       " 3,\n",
       " 2,\n",
       " 3,\n",
       " 3,\n",
       " 5,\n",
       " 3,\n",
       " 2,\n",
       " 3,\n",
       " 2,\n",
       " 3,\n",
       " 5,\n",
       " 4,\n",
       " 3,\n",
       " 2,\n",
       " 3,\n",
       " 2,\n",
       " 5,\n",
       " 4,\n",
       " 3,\n",
       " 3,\n",
       " 2,\n",
       " 3,\n",
       " 3,\n",
       " 2,\n",
       " 2,\n",
       " 4,\n",
       " 3,\n",
       " 4,\n",
       " 3,\n",
       " 2,\n",
       " 2,\n",
       " 3,\n",
       " 2,\n",
       " 2,\n",
       " 3,\n",
       " 2,\n",
       " 2,\n",
       " 2,\n",
       " 3,\n",
       " 2,\n",
       " 2,\n",
       " 3,\n",
       " 6,\n",
       " 4,\n",
       " 2,\n",
       " 3,\n",
       " 4,\n",
       " 2,\n",
       " 2,\n",
       " 4,\n",
       " 2,\n",
       " 2,\n",
       " 3,\n",
       " 4,\n",
       " 2,\n",
       " 3,\n",
       " 2,\n",
       " 5,\n",
       " 3,\n",
       " 3,\n",
       " 3,\n",
       " 2,\n",
       " 2,\n",
       " 2,\n",
       " 3,\n",
       " 3,\n",
       " 2,\n",
       " 3,\n",
       " 2,\n",
       " 2,\n",
       " 3,\n",
       " 4,\n",
       " 2,\n",
       " 2,\n",
       " 2,\n",
       " 2,\n",
       " 4,\n",
       " 7,\n",
       " 4,\n",
       " 2,\n",
       " 2,\n",
       " 2,\n",
       " 3,\n",
       " 2,\n",
       " 6,\n",
       " 2,\n",
       " 2,\n",
       " 2,\n",
       " 4,\n",
       " 2,\n",
       " 3,\n",
       " 4,\n",
       " 2,\n",
       " 2,\n",
       " 2,\n",
       " 2,\n",
       " 2,\n",
       " 3,\n",
       " 4,\n",
       " 2,\n",
       " 2,\n",
       " 4,\n",
       " 3,\n",
       " 2,\n",
       " 2,\n",
       " 3,\n",
       " 2,\n",
       " 3,\n",
       " 3,\n",
       " 3,\n",
       " 2,\n",
       " 2,\n",
       " 4,\n",
       " 2,\n",
       " 4,\n",
       " 3,\n",
       " 2,\n",
       " 2,\n",
       " 4,\n",
       " 4,\n",
       " 3,\n",
       " 3,\n",
       " 2,\n",
       " 2,\n",
       " 3,\n",
       " 5,\n",
       " 3,\n",
       " 3,\n",
       " 4,\n",
       " 3,\n",
       " 4,\n",
       " 2,\n",
       " 3,\n",
       " 2,\n",
       " 4,\n",
       " 2,\n",
       " 3,\n",
       " 2,\n",
       " 3,\n",
       " 4,\n",
       " 3,\n",
       " 2,\n",
       " 3,\n",
       " 2,\n",
       " 2,\n",
       " 3,\n",
       " 2,\n",
       " 5,\n",
       " 3,\n",
       " 2,\n",
       " 3,\n",
       " 2,\n",
       " 3,\n",
       " 2,\n",
       " 2,\n",
       " 3,\n",
       " 2,\n",
       " 3,\n",
       " 4,\n",
       " 3,\n",
       " 4,\n",
       " 4,\n",
       " 4,\n",
       " 3,\n",
       " 2,\n",
       " 2,\n",
       " 2,\n",
       " 2,\n",
       " 3,\n",
       " 2,\n",
       " 3,\n",
       " 2,\n",
       " 3,\n",
       " 5,\n",
       " 3,\n",
       " 3,\n",
       " 3,\n",
       " 3,\n",
       " 3,\n",
       " 3,\n",
       " 2,\n",
       " 2,\n",
       " 2,\n",
       " 2,\n",
       " 2,\n",
       " 2,\n",
       " 2,\n",
       " 2,\n",
       " 4,\n",
       " 3,\n",
       " 2,\n",
       " 2,\n",
       " 2,\n",
       " 2,\n",
       " 2,\n",
       " 2,\n",
       " 2,\n",
       " 3,\n",
       " 3,\n",
       " 3,\n",
       " 5,\n",
       " 2,\n",
       " 3,\n",
       " 2,\n",
       " 2,\n",
       " 2,\n",
       " 2,\n",
       " 2,\n",
       " 2,\n",
       " 3,\n",
       " 2,\n",
       " 3,\n",
       " 3,\n",
       " 2,\n",
       " 4,\n",
       " 2,\n",
       " 2,\n",
       " 3,\n",
       " 2,\n",
       " 2,\n",
       " 2,\n",
       " 5,\n",
       " 2,\n",
       " 3,\n",
       " 2,\n",
       " 3,\n",
       " 2,\n",
       " 2,\n",
       " 3,\n",
       " 2,\n",
       " 3,\n",
       " 3,\n",
       " 2,\n",
       " 3,\n",
       " 2,\n",
       " 2,\n",
       " 3,\n",
       " 4,\n",
       " 6,\n",
       " 2,\n",
       " 3,\n",
       " 3,\n",
       " 2,\n",
       " 3,\n",
       " 3,\n",
       " 2,\n",
       " 2,\n",
       " 6,\n",
       " 2,\n",
       " 2,\n",
       " 5,\n",
       " 3,\n",
       " 3,\n",
       " 5,\n",
       " 3,\n",
       " 2,\n",
       " 2,\n",
       " 2,\n",
       " 2,\n",
       " 3,\n",
       " 2,\n",
       " 4,\n",
       " 2,\n",
       " 3,\n",
       " 2,\n",
       " 2,\n",
       " 5,\n",
       " 2,\n",
       " 2,\n",
       " 2,\n",
       " 2,\n",
       " 4,\n",
       " 3,\n",
       " 3,\n",
       " 3,\n",
       " 3,\n",
       " 4,\n",
       " 4,\n",
       " 2,\n",
       " 3,\n",
       " 3,\n",
       " 3,\n",
       " 5,\n",
       " 2,\n",
       " 2,\n",
       " 2,\n",
       " 2,\n",
       " 2,\n",
       " 2,\n",
       " 2,\n",
       " 3,\n",
       " 3,\n",
       " 2,\n",
       " 3,\n",
       " 2,\n",
       " 3,\n",
       " 4,\n",
       " 2,\n",
       " 2,\n",
       " 3,\n",
       " 4,\n",
       " 2,\n",
       " 2,\n",
       " 2,\n",
       " 4,\n",
       " 2,\n",
       " 2,\n",
       " 3,\n",
       " 2,\n",
       " 3,\n",
       " 4,\n",
       " 2,\n",
       " 3,\n",
       " 3,\n",
       " 3,\n",
       " 3,\n",
       " 3,\n",
       " 6,\n",
       " 3,\n",
       " 3,\n",
       " 2,\n",
       " 3,\n",
       " 4,\n",
       " 2,\n",
       " 2,\n",
       " 3,\n",
       " 3,\n",
       " 2,\n",
       " 2,\n",
       " 3,\n",
       " 3,\n",
       " 3,\n",
       " 2,\n",
       " 2,\n",
       " 2,\n",
       " 3,\n",
       " 2,\n",
       " 2,\n",
       " 2,\n",
       " 3,\n",
       " 2,\n",
       " 2,\n",
       " 4,\n",
       " 3,\n",
       " 2,\n",
       " 2,\n",
       " 4,\n",
       " 4,\n",
       " 4,\n",
       " 3,\n",
       " 2,\n",
       " 2,\n",
       " 2,\n",
       " 5,\n",
       " 4,\n",
       " 3,\n",
       " 3,\n",
       " 3,\n",
       " 2,\n",
       " 4,\n",
       " 2,\n",
       " 2,\n",
       " 2,\n",
       " 3,\n",
       " 3,\n",
       " 2,\n",
       " 3,\n",
       " 2,\n",
       " 4,\n",
       " 2,\n",
       " 2,\n",
       " 2,\n",
       " 3,\n",
       " 2,\n",
       " 3,\n",
       " 3,\n",
       " 2,\n",
       " 4,\n",
       " 3,\n",
       " 2,\n",
       " 2,\n",
       " 2,\n",
       " 2,\n",
       " 2,\n",
       " 2,\n",
       " 3,\n",
       " 2,\n",
       " 4,\n",
       " 2,\n",
       " 2,\n",
       " 3,\n",
       " 3,\n",
       " 4,\n",
       " 3,\n",
       " 2,\n",
       " 2,\n",
       " 2,\n",
       " 2,\n",
       " 3,\n",
       " 2,\n",
       " 2,\n",
       " 2,\n",
       " 2,\n",
       " 3,\n",
       " 2,\n",
       " 2,\n",
       " 3,\n",
       " 2,\n",
       " 3,\n",
       " 4,\n",
       " 2,\n",
       " 2,\n",
       " 4,\n",
       " 3,\n",
       " 2,\n",
       " 3,\n",
       " 3,\n",
       " 3,\n",
       " 3,\n",
       " 2,\n",
       " 4,\n",
       " 3,\n",
       " 2,\n",
       " 3,\n",
       " 3,\n",
       " 2,\n",
       " 2,\n",
       " 2,\n",
       " 3,\n",
       " 2,\n",
       " 2,\n",
       " 5,\n",
       " 4,\n",
       " 2,\n",
       " 2,\n",
       " 4,\n",
       " 2,\n",
       " 3,\n",
       " 2,\n",
       " 3,\n",
       " 4,\n",
       " 2,\n",
       " 3,\n",
       " 3,\n",
       " 2,\n",
       " 3,\n",
       " 2,\n",
       " 3,\n",
       " 3,\n",
       " 3,\n",
       " 4,\n",
       " 3,\n",
       " 4,\n",
       " 2,\n",
       " 2,\n",
       " 2,\n",
       " 2,\n",
       " 2,\n",
       " 4,\n",
       " 2,\n",
       " 5,\n",
       " 2,\n",
       " 2,\n",
       " 3,\n",
       " 3,\n",
       " 3,\n",
       " 3,\n",
       " 3,\n",
       " 3,\n",
       " 3,\n",
       " 3,\n",
       " 2,\n",
       " 2,\n",
       " 2,\n",
       " 2,\n",
       " 2,\n",
       " 3,\n",
       " 2,\n",
       " 2,\n",
       " 3,\n",
       " 2,\n",
       " 2,\n",
       " 4,\n",
       " 2,\n",
       " 3,\n",
       " 2,\n",
       " 3,\n",
       " 2,\n",
       " 2,\n",
       " 2,\n",
       " 2,\n",
       " 3,\n",
       " 4,\n",
       " 3,\n",
       " 2,\n",
       " 2,\n",
       " 4,\n",
       " 4,\n",
       " 2,\n",
       " 4,\n",
       " 2,\n",
       " 2,\n",
       " 2,\n",
       " 2,\n",
       " 2,\n",
       " 5,\n",
       " 3,\n",
       " 2,\n",
       " 2,\n",
       " 3,\n",
       " 2,\n",
       " 3,\n",
       " 3,\n",
       " 4,\n",
       " 3,\n",
       " 3,\n",
       " 2,\n",
       " 2,\n",
       " 2,\n",
       " 2,\n",
       " 2,\n",
       " 2,\n",
       " 4,\n",
       " 2,\n",
       " 2,\n",
       " 4,\n",
       " 4,\n",
       " 2,\n",
       " 3,\n",
       " 3,\n",
       " 4,\n",
       " 2,\n",
       " 3,\n",
       " 2,\n",
       " 2,\n",
       " 2,\n",
       " 4,\n",
       " 2,\n",
       " 3,\n",
       " 3,\n",
       " 3,\n",
       " 2,\n",
       " 2,\n",
       " 3,\n",
       " 2,\n",
       " 2,\n",
       " 2,\n",
       " 5,\n",
       " 3,\n",
       " 5,\n",
       " 2,\n",
       " 2,\n",
       " 3,\n",
       " 2,\n",
       " 2,\n",
       " 4,\n",
       " 3,\n",
       " 3,\n",
       " 4,\n",
       " 2,\n",
       " 2,\n",
       " 2,\n",
       " 2,\n",
       " 2,\n",
       " 2,\n",
       " 2,\n",
       " 2,\n",
       " 2,\n",
       " 4,\n",
       " 4,\n",
       " 3,\n",
       " 4,\n",
       " 2,\n",
       " 3,\n",
       " 4,\n",
       " 2,\n",
       " 3,\n",
       " 2,\n",
       " 3,\n",
       " 3,\n",
       " 2,\n",
       " 3,\n",
       " 2,\n",
       " 3,\n",
       " 3,\n",
       " 3,\n",
       " 2,\n",
       " 3,\n",
       " 3,\n",
       " 2,\n",
       " 3,\n",
       " 5,\n",
       " 3,\n",
       " 2,\n",
       " 2,\n",
       " 2,\n",
       " 3,\n",
       " 3,\n",
       " 4,\n",
       " 2,\n",
       " 2,\n",
       " 2,\n",
       " 4,\n",
       " 2,\n",
       " 2,\n",
       " 2,\n",
       " 3,\n",
       " 2,\n",
       " 2,\n",
       " 2,\n",
       " 3,\n",
       " 3,\n",
       " 2,\n",
       " 4,\n",
       " 2,\n",
       " 2,\n",
       " 3,\n",
       " 2,\n",
       " 3,\n",
       " 3,\n",
       " 3,\n",
       " 2,\n",
       " 3,\n",
       " 2,\n",
       " 2,\n",
       " 3,\n",
       " 2,\n",
       " 2,\n",
       " 2,\n",
       " 3,\n",
       " 2,\n",
       " 3,\n",
       " 2,\n",
       " 2,\n",
       " 4,\n",
       " 3,\n",
       " 3,\n",
       " 3,\n",
       " 2,\n",
       " 2,\n",
       " 3,\n",
       " 2,\n",
       " 3,\n",
       " 2,\n",
       " 3,\n",
       " 4,\n",
       " 5,\n",
       " 4,\n",
       " 3,\n",
       " 2,\n",
       " 2,\n",
       " 3,\n",
       " 2,\n",
       " 3,\n",
       " 2,\n",
       " 2,\n",
       " 4,\n",
       " 2,\n",
       " 2,\n",
       " 2,\n",
       " 2,\n",
       " 3,\n",
       " 3,\n",
       " 2,\n",
       " 2,\n",
       " 3,\n",
       " 2,\n",
       " 3,\n",
       " 3,\n",
       " 2,\n",
       " 2,\n",
       " 2,\n",
       " 4,\n",
       " 2,\n",
       " 3,\n",
       " 2,\n",
       " 2,\n",
       " 2,\n",
       " 2,\n",
       " 2,\n",
       " 3,\n",
       " 2,\n",
       " 2,\n",
       " 2,\n",
       " 2,\n",
       " 2,\n",
       " 3,\n",
       " 2,\n",
       " 3,\n",
       " 3,\n",
       " 3,\n",
       " 3,\n",
       " 3,\n",
       " 2,\n",
       " 2,\n",
       " 2,\n",
       " 3,\n",
       " 3,\n",
       " 4,\n",
       " 2,\n",
       " 2,\n",
       " 5,\n",
       " 2,\n",
       " 2,\n",
       " 3,\n",
       " 3,\n",
       " 2,\n",
       " 2,\n",
       " 2,\n",
       " 2,\n",
       " 2,\n",
       " 2,\n",
       " 3,\n",
       " 3,\n",
       " 3,\n",
       " 3,\n",
       " 3,\n",
       " 2,\n",
       " 2,\n",
       " 3,\n",
       " 3,\n",
       " 3,\n",
       " 2,\n",
       " 2,\n",
       " 2,\n",
       " 2,\n",
       " 2,\n",
       " 4,\n",
       " 2,\n",
       " 3,\n",
       " 2,\n",
       " 4,\n",
       " 3,\n",
       " 4,\n",
       " 5,\n",
       " 2,\n",
       " 5,\n",
       " 4,\n",
       " 2,\n",
       " 2,\n",
       " 2,\n",
       " 2,\n",
       " 3,\n",
       " 2,\n",
       " 3,\n",
       " 3,\n",
       " 2,\n",
       " 2,\n",
       " 5,\n",
       " 2,\n",
       " 2,\n",
       " 3,\n",
       " 4,\n",
       " 4,\n",
       " 2,\n",
       " 3,\n",
       " 5,\n",
       " 3,\n",
       " 4,\n",
       " 2,\n",
       " 2,\n",
       " 3,\n",
       " 4,\n",
       " 2,\n",
       " 2,\n",
       " 6,\n",
       " 2,\n",
       " 2,\n",
       " 3,\n",
       " 4,\n",
       " 3,\n",
       " 2,\n",
       " 3,\n",
       " 3,\n",
       " 2,\n",
       " 2,\n",
       " 2,\n",
       " 4,\n",
       " 2,\n",
       " 2,\n",
       " 2,\n",
       " 2,\n",
       " 4,\n",
       " 2,\n",
       " 2,\n",
       " 3,\n",
       " 2,\n",
       " 4,\n",
       " 3,\n",
       " 2,\n",
       " 2,\n",
       " 3,\n",
       " 4,\n",
       " 3,\n",
       " 4,\n",
       " 5,\n",
       " 2,\n",
       " 2,\n",
       " 4,\n",
       " 2,\n",
       " 2,\n",
       " 2,\n",
       " 2,\n",
       " 2,\n",
       " 2,\n",
       " 4,\n",
       " 3,\n",
       " 3,\n",
       " 2,\n",
       " 3,\n",
       " 2,\n",
       " 2,\n",
       " 2,\n",
       " 4,\n",
       " 2,\n",
       " 2,\n",
       " 2,\n",
       " 3,\n",
       " 4,\n",
       " 2,\n",
       " 3,\n",
       " 2,\n",
       " 2,\n",
       " 2,\n",
       " 3,\n",
       " 3,\n",
       " 2,\n",
       " 3,\n",
       " 3,\n",
       " 3,\n",
       " 2,\n",
       " 2,\n",
       " 4,\n",
       " 2,\n",
       " 3,\n",
       " 4,\n",
       " 3,\n",
       " ...]"
      ]
     },
     "execution_count": 11,
     "metadata": {},
     "output_type": "execute_result"
    }
   ],
   "source": [
    "countvec"
   ]
  },
  {
   "cell_type": "code",
   "execution_count": 12,
   "id": "7f4f727e",
   "metadata": {},
   "outputs": [
    {
     "name": "stdout",
     "output_type": "stream",
     "text": [
      "9\n",
      "0 0\n",
      "1 0\n",
      "2 4961\n",
      "3 3307\n",
      "4 1282\n",
      "5 356\n",
      "6 77\n",
      "7 15\n",
      "8 0\n",
      "9 2\n"
     ]
    }
   ],
   "source": [
    "#avg_counter = mean(countvec) \n",
    "#print (\"avergae of rv counter\",avg_counter)\n",
    "max_counter = max(countvec)\n",
    "print (max_counter)\n",
    "\n",
    "for i in range (max_counter+1) :\n",
    "    count = countvec.count(i)\n",
    "    print (i, count)"
   ]
  },
  {
   "cell_type": "markdown",
   "id": "f129e034",
   "metadata": {},
   "source": [
    "#### Rolling of a die"
   ]
  },
  {
   "cell_type": "code",
   "execution_count": 13,
   "id": "2826a3fe",
   "metadata": {},
   "outputs": [],
   "source": [
    "s = 0 #set sum = 0\n",
    "count = 0 #set count = 0\n",
    "countvec = [] #create a list to store values of counts\n",
    "die_roll = [1,2,3,4,5,6] # sample space for rolling a die\n",
    "for i in range(10000):# for every iteration set initial values\n",
    "    x = random.sample(die_roll,1)\n",
    "    s = 0\n",
    "    count = 0\n",
    "    while s < 6:# keep iterating till sum >= 1\n",
    "        s += x[0]\n",
    "        count += 1\n",
    "        x = random.sample(die_roll,1)\n",
    "    countvec.append(count) "
   ]
  },
  {
   "cell_type": "code",
   "execution_count": 14,
   "id": "f011f3a8",
   "metadata": {},
   "outputs": [
    {
     "data": {
      "text/plain": [
       "6"
      ]
     },
     "execution_count": 14,
     "metadata": {},
     "output_type": "execute_result"
    }
   ],
   "source": [
    "x[0]"
   ]
  },
  {
   "cell_type": "code",
   "execution_count": 15,
   "id": "e05998c7",
   "metadata": {},
   "outputs": [
    {
     "data": {
      "text/plain": [
       "2.1473"
      ]
     },
     "execution_count": 15,
     "metadata": {},
     "output_type": "execute_result"
    }
   ],
   "source": [
    "sum(countvec)/10000"
   ]
  },
  {
   "cell_type": "code",
   "execution_count": 16,
   "id": "4689b7e8",
   "metadata": {},
   "outputs": [
    {
     "name": "stdout",
     "output_type": "stream",
     "text": [
      "6\n",
      "0 0\n",
      "1 1755\n",
      "2 5523\n",
      "3 2261\n",
      "4 419\n",
      "5 39\n",
      "6 3\n"
     ]
    }
   ],
   "source": [
    "max_counter = max(countvec)\n",
    "print (max_counter)\n",
    "\n",
    "for i in range (max_counter+1) :\n",
    "    count = countvec.count(i)\n",
    "    print (i, count)"
   ]
  },
  {
   "cell_type": "markdown",
   "id": "b79d734b",
   "metadata": {},
   "source": [
    "#### Normal distribution"
   ]
  },
  {
   "cell_type": "code",
   "execution_count": 17,
   "id": "08b4fd72",
   "metadata": {},
   "outputs": [],
   "source": [
    "s = 0 #set sum = 0\n",
    "count = 0 #set count = 0\n",
    "countvec = [] #create a list to store values of counts\n",
    "\n",
    "for i in range(10):# for every iteration set initial values\n",
    "    #x = np.random.normal(0.5,0.1)\n",
    "    s = 0\n",
    "    count = 0\n",
    "    while s < 1:# keep iterating till sum < 1, stop as soon we cross 1 (sum >= 1)\n",
    "        x = np.random.normal(0.5,0.1)\n",
    "        s += x\n",
    "        count += 1\n",
    "        #x = np.random.normal(0.5,0.1)\n",
    "    countvec.append(count) "
   ]
  },
  {
   "cell_type": "code",
   "execution_count": 18,
   "id": "46268269",
   "metadata": {
    "scrolled": true
   },
   "outputs": [
    {
     "data": {
      "text/plain": [
       "[3, 3, 3, 3, 3, 2, 3, 2, 2, 3]"
      ]
     },
     "execution_count": 18,
     "metadata": {},
     "output_type": "execute_result"
    }
   ],
   "source": [
    "countvec # run time is higher, max iterations also very high, due to nature of distribution(spread of values)"
   ]
  },
  {
   "cell_type": "code",
   "execution_count": 19,
   "id": "7cad3162",
   "metadata": {},
   "outputs": [
    {
     "data": {
      "text/plain": [
       "3"
      ]
     },
     "execution_count": 19,
     "metadata": {},
     "output_type": "execute_result"
    }
   ],
   "source": [
    "max(countvec)"
   ]
  },
  {
   "cell_type": "code",
   "execution_count": 20,
   "id": "156cc5bb",
   "metadata": {},
   "outputs": [
    {
     "data": {
      "text/plain": [
       "2.7"
      ]
     },
     "execution_count": 20,
     "metadata": {},
     "output_type": "execute_result"
    }
   ],
   "source": [
    "st.mean(countvec) # should approx e"
   ]
  },
  {
   "cell_type": "code",
   "execution_count": 21,
   "id": "a9021869",
   "metadata": {},
   "outputs": [
    {
     "name": "stdout",
     "output_type": "stream",
     "text": [
      "3\n",
      "0 0\n",
      "1 0\n",
      "2 3\n",
      "3 7\n"
     ]
    }
   ],
   "source": [
    "max_counter = max(countvec)\n",
    "print (max_counter)\n",
    "df = pd.DataFrame(columns = ['values','count'])\n",
    "for i in range (max_counter+1) :\n",
    "    count = countvec.count(i)\n",
    "    print (i, count)"
   ]
  },
  {
   "cell_type": "markdown",
   "id": "921f5917",
   "metadata": {},
   "source": [
    "#### Combined code for Uniform/Normal distributions with parameters of choice"
   ]
  },
  {
   "cell_type": "code",
   "execution_count": 22,
   "id": "1e4a309a",
   "metadata": {
    "scrolled": true
   },
   "outputs": [
    {
     "ename": "KeyboardInterrupt",
     "evalue": "Interrupted by user",
     "output_type": "error",
     "traceback": [
      "\u001b[1;31m---------------------------------------------------------------------------\u001b[0m",
      "\u001b[1;31mKeyboardInterrupt\u001b[0m                         Traceback (most recent call last)",
      "\u001b[1;32mC:\\Users\\KARNAL~1\\AppData\\Local\\Temp/ipykernel_10924/3038508831.py\u001b[0m in \u001b[0;36m<module>\u001b[1;34m\u001b[0m\n\u001b[0;32m      1\u001b[0m \u001b[1;31m# choice of distribution\u001b[0m\u001b[1;33m\u001b[0m\u001b[1;33m\u001b[0m\u001b[0m\n\u001b[0;32m      2\u001b[0m \u001b[1;32mwhile\u001b[0m \u001b[1;32mTrue\u001b[0m\u001b[1;33m:\u001b[0m\u001b[1;33m\u001b[0m\u001b[1;33m\u001b[0m\u001b[0m\n\u001b[1;32m----> 3\u001b[1;33m     \u001b[0mdist\u001b[0m \u001b[1;33m=\u001b[0m \u001b[0mint\u001b[0m\u001b[1;33m(\u001b[0m\u001b[0minput\u001b[0m\u001b[1;33m(\u001b[0m\u001b[1;34m'Choose Distribution: 1 - Normal, 2 - Uniform : '\u001b[0m \u001b[1;33m)\u001b[0m\u001b[1;33m)\u001b[0m\u001b[1;33m\u001b[0m\u001b[1;33m\u001b[0m\u001b[0m\n\u001b[0m\u001b[0;32m      4\u001b[0m     \u001b[1;32mif\u001b[0m \u001b[0mdist\u001b[0m \u001b[1;32mnot\u001b[0m \u001b[1;32min\u001b[0m \u001b[1;33m(\u001b[0m\u001b[1;36m1\u001b[0m\u001b[1;33m,\u001b[0m\u001b[1;36m2\u001b[0m\u001b[1;33m)\u001b[0m\u001b[1;33m:\u001b[0m\u001b[1;33m\u001b[0m\u001b[1;33m\u001b[0m\u001b[0m\n\u001b[0;32m      5\u001b[0m         \u001b[0mprint\u001b[0m\u001b[1;33m(\u001b[0m\u001b[1;34m\" Please pick a number from the given list displayed\"\u001b[0m\u001b[1;33m)\u001b[0m\u001b[1;33m\u001b[0m\u001b[1;33m\u001b[0m\u001b[0m\n",
      "\u001b[1;32m~\\anaconda3\\lib\\site-packages\\ipykernel\\kernelbase.py\u001b[0m in \u001b[0;36mraw_input\u001b[1;34m(self, prompt)\u001b[0m\n\u001b[0;32m   1004\u001b[0m                 \u001b[1;34m\"raw_input was called, but this frontend does not support input requests.\"\u001b[0m\u001b[1;33m\u001b[0m\u001b[1;33m\u001b[0m\u001b[0m\n\u001b[0;32m   1005\u001b[0m             )\n\u001b[1;32m-> 1006\u001b[1;33m         return self._input_request(\n\u001b[0m\u001b[0;32m   1007\u001b[0m             \u001b[0mstr\u001b[0m\u001b[1;33m(\u001b[0m\u001b[0mprompt\u001b[0m\u001b[1;33m)\u001b[0m\u001b[1;33m,\u001b[0m\u001b[1;33m\u001b[0m\u001b[1;33m\u001b[0m\u001b[0m\n\u001b[0;32m   1008\u001b[0m             \u001b[0mself\u001b[0m\u001b[1;33m.\u001b[0m\u001b[0m_parent_ident\u001b[0m\u001b[1;33m[\u001b[0m\u001b[1;34m\"shell\"\u001b[0m\u001b[1;33m]\u001b[0m\u001b[1;33m,\u001b[0m\u001b[1;33m\u001b[0m\u001b[1;33m\u001b[0m\u001b[0m\n",
      "\u001b[1;32m~\\anaconda3\\lib\\site-packages\\ipykernel\\kernelbase.py\u001b[0m in \u001b[0;36m_input_request\u001b[1;34m(self, prompt, ident, parent, password)\u001b[0m\n\u001b[0;32m   1049\u001b[0m             \u001b[1;32mexcept\u001b[0m \u001b[0mKeyboardInterrupt\u001b[0m\u001b[1;33m:\u001b[0m\u001b[1;33m\u001b[0m\u001b[1;33m\u001b[0m\u001b[0m\n\u001b[0;32m   1050\u001b[0m                 \u001b[1;31m# re-raise KeyboardInterrupt, to truncate traceback\u001b[0m\u001b[1;33m\u001b[0m\u001b[1;33m\u001b[0m\u001b[0m\n\u001b[1;32m-> 1051\u001b[1;33m                 \u001b[1;32mraise\u001b[0m \u001b[0mKeyboardInterrupt\u001b[0m\u001b[1;33m(\u001b[0m\u001b[1;34m\"Interrupted by user\"\u001b[0m\u001b[1;33m)\u001b[0m \u001b[1;32mfrom\u001b[0m \u001b[1;32mNone\u001b[0m\u001b[1;33m\u001b[0m\u001b[1;33m\u001b[0m\u001b[0m\n\u001b[0m\u001b[0;32m   1052\u001b[0m             \u001b[1;32mexcept\u001b[0m \u001b[0mException\u001b[0m\u001b[1;33m:\u001b[0m\u001b[1;33m\u001b[0m\u001b[1;33m\u001b[0m\u001b[0m\n\u001b[0;32m   1053\u001b[0m                 \u001b[0mself\u001b[0m\u001b[1;33m.\u001b[0m\u001b[0mlog\u001b[0m\u001b[1;33m.\u001b[0m\u001b[0mwarning\u001b[0m\u001b[1;33m(\u001b[0m\u001b[1;34m\"Invalid Message:\"\u001b[0m\u001b[1;33m,\u001b[0m \u001b[0mexc_info\u001b[0m\u001b[1;33m=\u001b[0m\u001b[1;32mTrue\u001b[0m\u001b[1;33m)\u001b[0m\u001b[1;33m\u001b[0m\u001b[1;33m\u001b[0m\u001b[0m\n",
      "\u001b[1;31mKeyboardInterrupt\u001b[0m: Interrupted by user"
     ]
    }
   ],
   "source": [
    "# choice of distribution\n",
    "while True:\n",
    "    dist = int(input('Choose Distribution: 1 - Normal, 2 - Uniform : ' ))\n",
    "    if dist not in (1,2):\n",
    "        print(\" Please pick a number from the given list displayed\")\n",
    "    else:\n",
    "        break\n",
    "\n",
    "# number of parameters to input for corresponding distribution\n",
    "param = dict({1:2, 2:2})\n",
    "distribution = dict({1:'normal', 2:'uniform'})\n",
    "\n",
    "# choose the values of parameter\n",
    "paramlist = list()\n",
    "for i in range(param[dist]):\n",
    "    a = int(input('Enter numeric for parameter '+ str(i + 1) + ': '))\n",
    "    paramlist.append(a)\n",
    "    \n",
    "# choose the number of iterations\n",
    "iterations = int(input('Enter number of iterations: '))\n",
    "\n",
    "# choose threshold\n",
    "thresh = int(input('Enter threshold value: '))\n",
    "\n",
    "# execute code for \n",
    "s = 0 #set sum = 0\n",
    "count = 0 #set count = 0\n",
    "countvec = [] #create a list to store values of counts\n",
    "\n",
    "for i in range(iterations):# for every iteration set initial values for x,s,count\n",
    "    x = eval(str('np.random.'+distribution[dist]))(paramlist[0],paramlist[1])\n",
    "    s = 0\n",
    "    count = 0\n",
    "    while s < thresh:# keep iterating till sum just about to cross 1, stop after we cross 1 (sum <= 1)\n",
    "        s += x\n",
    "        count += 1\n",
    "        x = eval(str('np.random.'+ distribution[dist]))(paramlist[0],paramlist[1])\n",
    "    countvec.append(count) \n",
    "    \n",
    "# display results\n",
    "print(' ')\n",
    "print('Chosen distribution -',distribution[dist],'(',paramlist[0],',',paramlist[1],')')\n",
    "max_counter = max(countvec)\n",
    "print('maximum number of variables to be added: ', max_counter)\n",
    "print('mean number of variables to be added: ', st.mean(countvec))\n",
    "print('percentage of number of variables to be added in ', iterations, ' iterations')\n",
    "for i in range (max_counter+1) :\n",
    "    count = countvec.count(i)\n",
    "    print (i, count/iterations*100)"
   ]
  },
  {
   "cell_type": "markdown",
   "id": "66261f51",
   "metadata": {},
   "source": [
    "### Inspection Paradox"
   ]
  },
  {
   "cell_type": "code",
   "execution_count": null,
   "id": "a9f1b03b",
   "metadata": {},
   "outputs": [],
   "source": [
    "t_list = list()\n",
    "x = np.random.uniform(0.0,1.0,10) #inter arrival time of buses, can change distribution to exponential for poisson process\n",
    "\n",
    "y=0\n",
    "for i in x:\n",
    "    y = y + i\n",
    "    t_list.append(y)\n",
    "    \n",
    "print(t_list) # arrival time of buses (Tn)"
   ]
  },
  {
   "cell_type": "code",
   "execution_count": null,
   "id": "7889a687",
   "metadata": {
    "scrolled": true
   },
   "outputs": [],
   "source": [
    "# passenger arrival time\n",
    "p_arrivals = np.random.uniform(0, max(t_list),100)\n",
    "p_arrivals"
   ]
  },
  {
   "cell_type": "code",
   "execution_count": null,
   "id": "0163632d",
   "metadata": {},
   "outputs": [],
   "source": [
    "index = np.searchsorted(t_list, p_arrivals, side='right') # mapping index for passenger arrival"
   ]
  },
  {
   "cell_type": "code",
   "execution_count": null,
   "id": "d8d081b7",
   "metadata": {},
   "outputs": [],
   "source": [
    "index"
   ]
  },
  {
   "cell_type": "code",
   "execution_count": null,
   "id": "1125d465",
   "metadata": {},
   "outputs": [],
   "source": [
    "x"
   ]
  },
  {
   "cell_type": "code",
   "execution_count": null,
   "id": "0cbce1a8",
   "metadata": {},
   "outputs": [],
   "source": [
    "int_arrivals_p = list()\n",
    "for i in range(len(p_arrivals)):\n",
    "    int_arrivals_p.append(x[index[i]])"
   ]
  },
  {
   "cell_type": "code",
   "execution_count": null,
   "id": "6ee0439e",
   "metadata": {
    "scrolled": true
   },
   "outputs": [],
   "source": [
    "int_arrivals_p"
   ]
  },
  {
   "cell_type": "code",
   "execution_count": null,
   "id": "b43e5617",
   "metadata": {},
   "outputs": [],
   "source": [
    "sum(int_arrivals_p)/len(int_arrivals_p) # Average inter arrival time from passenger point of view"
   ]
  },
  {
   "cell_type": "code",
   "execution_count": null,
   "id": "49a3470c",
   "metadata": {},
   "outputs": [],
   "source": [
    "x.mean() # Average inter arrival time of buses"
   ]
  },
  {
   "cell_type": "code",
   "execution_count": null,
   "id": "9cf9b898",
   "metadata": {},
   "outputs": [],
   "source": [
    "plt.step(t_list,[i for i in range(1,11)], 'g', where='pre') # t_list bus arrival time, i - ith renewal\n",
    "plt.show()"
   ]
  },
  {
   "cell_type": "markdown",
   "id": "a7df046f",
   "metadata": {},
   "source": [
    "### Simulate Renewal Process"
   ]
  },
  {
   "cell_type": "markdown",
   "id": "af3ebcef",
   "metadata": {},
   "source": [
    "#### Renewal for Poisson process"
   ]
  },
  {
   "cell_type": "code",
   "execution_count": 23,
   "id": "7b9bdebe",
   "metadata": {
    "scrolled": true
   },
   "outputs": [],
   "source": [
    "# single simulation\n",
    "T=30 #time that system is observed\n",
    "t=0 # arrival time\n",
    "n=0 # number of renewal\n",
    "list1=[] # list of interarrival time\n",
    "arrivals=[] # list of arrival times\n",
    "while t<T:\n",
    "    x=np.random.exponential(5)# on an average interarrival time is approx 5 minutes\n",
    "    t=t+x\n",
    "    n=n+1\n",
    "    list1.append(x) # inter arrival times\n",
    "    arrivals.append(t) # arrival times\n",
    "    "
   ]
  },
  {
   "cell_type": "code",
   "execution_count": 24,
   "id": "6b0dd962",
   "metadata": {
    "scrolled": false
   },
   "outputs": [
    {
     "data": {
      "text/plain": [
       "9"
      ]
     },
     "execution_count": 24,
     "metadata": {},
     "output_type": "execute_result"
    }
   ],
   "source": [
    "n"
   ]
  },
  {
   "cell_type": "code",
   "execution_count": 25,
   "id": "005a59f7",
   "metadata": {},
   "outputs": [
    {
     "data": {
      "text/plain": [
       "[16.82662096168222,\n",
       " 17.46476665809557,\n",
       " 19.554345614447406,\n",
       " 22.647953916241207,\n",
       " 26.509267879175596,\n",
       " 27.558766303390136,\n",
       " 28.662072654719402,\n",
       " 29.9139720079696,\n",
       " 35.38814057142059]"
      ]
     },
     "execution_count": 25,
     "metadata": {},
     "output_type": "execute_result"
    }
   ],
   "source": [
    "arrivals"
   ]
  },
  {
   "cell_type": "code",
   "execution_count": 26,
   "id": "1200d17d",
   "metadata": {},
   "outputs": [],
   "source": [
    "# 1000 simulations\n",
    "T=30 #time 30\n",
    "Nt=[]\n",
    "for i in range (0,1000):\n",
    "    t=0\n",
    "    n=0\n",
    "    while t<T :\n",
    "        x=np.random.exponential(5) #inter arrival\n",
    "        t=t+x # arrival\n",
    "        n=n+1 # number of renewals\n",
    "    Nt.append(n) # total renewals in time T for 1000 iterations"
   ]
  },
  {
   "cell_type": "code",
   "execution_count": 30,
   "id": "af8d0825",
   "metadata": {},
   "outputs": [
    {
     "data": {
      "text/plain": [
       "0.233"
      ]
     },
     "execution_count": 30,
     "metadata": {},
     "output_type": "execute_result"
    }
   ],
   "source": [
    "# limiting behavior of poisson process\n",
    "sum(Nt)/(T*1000) # this value should approx 1/5 where 5 is the mean inter arrival time"
   ]
  },
  {
   "cell_type": "code",
   "execution_count": 31,
   "id": "ec3d03ff",
   "metadata": {},
   "outputs": [
    {
     "data": {
      "text/plain": [
       "6.99"
      ]
     },
     "execution_count": 31,
     "metadata": {},
     "output_type": "execute_result"
    }
   ],
   "source": [
    "sum(Nt)/len(Nt) # average no. of renewals should be similar to n (theoretical/ analytical solution)"
   ]
  },
  {
   "cell_type": "markdown",
   "id": "caecc265",
   "metadata": {},
   "source": [
    "#### Visualization of Renewal process"
   ]
  },
  {
   "cell_type": "code",
   "execution_count": null,
   "id": "9b268f15",
   "metadata": {},
   "outputs": [],
   "source": [
    "plt.step(arrivals,[x for x in range(0,len(arrivals))])\n",
    "plt.show()"
   ]
  },
  {
   "cell_type": "code",
   "execution_count": null,
   "id": "0283b33b",
   "metadata": {
    "scrolled": true
   },
   "outputs": [],
   "source": [
    "arrivals"
   ]
  },
  {
   "cell_type": "markdown",
   "id": "c0c55614",
   "metadata": {},
   "source": [
    "#### Uniform/Normal distn of inter arrival"
   ]
  },
  {
   "cell_type": "code",
   "execution_count": 127,
   "id": "855b2b74",
   "metadata": {},
   "outputs": [],
   "source": [
    "# single simulation -  theoretical\n",
    "T=30 #time that system is observed\n",
    "t=0 # arrival time\n",
    "n=0 # number of renewal\n",
    "list1=[] # list of interarrival time\n",
    "arrivals=[] # list of arrival times\n",
    "while t<T:\n",
    "    x=np.random.uniform(0.5,1) # distribution of interarrival time can try normal\n",
    "    t=t+x\n",
    "    n=n+1\n",
    "    list1.append(x) # inter arrival times\n",
    "    arrivals.append(t) # arrival times\n",
    "    "
   ]
  },
  {
   "cell_type": "code",
   "execution_count": 128,
   "id": "bde9100f",
   "metadata": {},
   "outputs": [
    {
     "data": {
      "text/plain": [
       "38"
      ]
     },
     "execution_count": 128,
     "metadata": {},
     "output_type": "execute_result"
    }
   ],
   "source": [
    "n"
   ]
  },
  {
   "cell_type": "code",
   "execution_count": 120,
   "id": "0995ddb6",
   "metadata": {},
   "outputs": [],
   "source": [
    "# 1000 simulations\n",
    "T=30 #time 30\n",
    "Nt=[]\n",
    "for i in range (0,1000):\n",
    "    t=0\n",
    "    n=0\n",
    "    while t<T :\n",
    "        x=np.random.uniform(0.5,1) #inter arrival distribution\n",
    "        t=t+x # arrival\n",
    "        n=n+1 # number of renewals\n",
    "    Nt.append(n) # total renewals in time T for 100 iterations"
   ]
  },
  {
   "cell_type": "code",
   "execution_count": 121,
   "id": "498b9268",
   "metadata": {},
   "outputs": [
    {
     "data": {
      "text/plain": [
       "1.3506666666666667"
      ]
     },
     "execution_count": 121,
     "metadata": {},
     "output_type": "execute_result"
    }
   ],
   "source": [
    "# limiting behaviour of Renewal process\n",
    "sum(Nt)/(T*1000) # should approximate 1/mean of distribution ~ 1/0.75"
   ]
  },
  {
   "cell_type": "code",
   "execution_count": 123,
   "id": "9c70d7f3",
   "metadata": {},
   "outputs": [
    {
     "data": {
      "text/plain": [
       "1.3333333333333333"
      ]
     },
     "execution_count": 123,
     "metadata": {},
     "output_type": "execute_result"
    }
   ],
   "source": [
    "1/.75"
   ]
  },
  {
   "cell_type": "code",
   "execution_count": 124,
   "id": "8d776a63",
   "metadata": {},
   "outputs": [
    {
     "data": {
      "text/plain": [
       "40.52"
      ]
     },
     "execution_count": 124,
     "metadata": {},
     "output_type": "execute_result"
    }
   ],
   "source": [
    "sum(Nt)/len(Nt) # should approximate value of n (analytical no. of renewals)"
   ]
  },
  {
   "cell_type": "markdown",
   "id": "27bf37eb",
   "metadata": {},
   "source": [
    "#### Visualization of Renewal process"
   ]
  },
  {
   "cell_type": "code",
   "execution_count": 146,
   "id": "9f8a6d15",
   "metadata": {},
   "outputs": [
    {
     "data": {
      "image/png": "[encoded data removed]",
      "text/plain": [
       "<Figure size 432x288 with 1 Axes>"
      ]
     },
     "metadata": {
      "needs_background": "light"
     },
     "output_type": "display_data"
    }
   ],
   "source": [
    "plt.step(arrivals,[x for x in range(0,len(arrivals))])\n",
    "plt.show()"
   ]
  },
  {
   "cell_type": "code",
   "execution_count": null,
   "id": "dc13f6aa",
   "metadata": {},
   "outputs": [],
   "source": []
  }
 ],
 "metadata": {
  "kernelspec": {
   "display_name": "Python 3 (ipykernel)",
   "language": "python",
   "name": "python3"
  },
  "language_info": {
   "codemirror_mode": {
    "name": "ipython",
    "version": 3
   },
   "file_extension": ".py",
   "mimetype": "text/x-python",
   "name": "python",
   "nbconvert_exporter": "python",
   "pygments_lexer": "ipython3",
   "version": "3.9.7"
  }
 },
 "nbformat": 4,
 "nbformat_minor": 5
}
